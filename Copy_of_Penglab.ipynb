{
  "nbformat": 4,
  "nbformat_minor": 0,
  "metadata": {
    "colab": {
      "name": "Copy of Penglab.ipynb",
      "provenance": [],
      "collapsed_sections": []
    },
    "kernelspec": {
      "name": "python3",
      "display_name": "Python 3"
    },
    "accelerator": "GPU"
  },
  "cells": [
    {
      "cell_type": "code",
      "metadata": {
        "id": "vp4LSKizX-8E"
      },
      "source": [
        "#Penglab (Abuse of Google Colab for fun and profit)\n",
        "#by mxrch\n",
        "\n",
        "#Choose what you want to install\n",
        "hashcat = True\n",
        "john = False\n",
        "hydra = False\n",
        "\n",
        "#Which shell ? (only one, or none)\n",
        "#⚠️ Don't select a shell to run bash commands in the Google Colab way (you'll see). Stable.\n",
        "ssh = True #It uses ngrok. Stable and interactive, but take a little time to setup\n",
        "python_shell = False #Useful for little hashes, but not for long hours, since you'll see the output only when it finish. Not interactive, but stable.\n",
        "bash_shell = False #Useful for big hashes. but you'll don't see your input (surely a Google Colab protection). Stable.\n",
        "\n",
        "#Wordlists (see weakpass.com to download them)\n",
        "wordlists_dir = \"wordlists\"\n",
        "\n",
        "rockyou = True #For CTFs, especially Hack The Box (133.44 Mb)\n",
        "hashesorg2019 = False #Very heavy (12.79 Gb) but has a good rate, if you're determinated\n",
        "\n",
        "#---------------------------\n",
        "\n",
        "if (python_shell and bash_shell) or (bash_shell and ssh) or (ssh and python_shell) :\n",
        "    print(\"Please do a choice\")\n",
        "    exit()"
      ],
      "execution_count": null,
      "outputs": []
    },
    {
      "cell_type": "code",
      "source": [
        "#Prevent random disconnects\n",
        "#This cell runs JS code to automatic reconnect to runtime.\n",
        "import IPython\n",
        "from google.colab import output\n",
        "\n",
        "display(IPython.display.Javascript('''\n",
        " function ClickConnect(){\n",
        "   btn = document.querySelector(\"colab-connect-button\")\n",
        "   if (btn != null){\n",
        "     console.log(\"Click colab-connect-button\"); \n",
        "     btn.click() \n",
        "     }\n",
        "   \n",
        "   btn = document.getElementById('ok')\n",
        "   if (btn != null){\n",
        "     console.log(\"Click reconnect\"); \n",
        "     btn.click() \n",
        "     }\n",
        "  }\n",
        "  \n",
        "setInterval(ClickConnect,60000)\n",
        "'''))\n",
        "\n",
        "print(\"Done.\")"
      ],
      "metadata": {
        "colab": {
          "base_uri": "https://localhost:8080/",
          "height": 34
        },
        "id": "aSWLLFSgmwZz",
        "outputId": "a7518021-b6cb-411d-8127-23b008570a1c"
      },
      "execution_count": null,
      "outputs": [
        {
          "output_type": "display_data",
          "data": {
            "application/javascript": [
              "\n",
              " function ClickConnect(){\n",
              "   btn = document.querySelector(\"colab-connect-button\")\n",
              "   if (btn != null){\n",
              "     console.log(\"Click colab-connect-button\"); \n",
              "     btn.click() \n",
              "     }\n",
              "   \n",
              "   btn = document.getElementById('ok')\n",
              "   if (btn != null){\n",
              "     console.log(\"Click reconnect\"); \n",
              "     btn.click() \n",
              "     }\n",
              "  }\n",
              "  \n",
              "setInterval(ClickConnect,60000)\n"
            ],
            "text/plain": [
              "<IPython.core.display.Javascript object>"
            ]
          },
          "metadata": {}
        },
        {
          "output_type": "stream",
          "name": "stdout",
          "text": [
            "Done.\n"
          ]
        }
      ]
    },
    {
      "cell_type": "code",
      "metadata": {
        "id": "bG3hglwpZCB_"
      },
      "source": [
        "#Wordlists\n",
        "import os\n",
        "\n",
        "os.system(\"wordlists_dir={}\".format(wordlists_dir))\n",
        "!mkdir ./$wordlists_dir\n",
        "if rockyou:\n",
        "    !printf \"[+] Downloading the Rockyou wordlist...\\n\"\n",
        "    !cd $wordlists_dir && wget https://download.weakpass.com/wordlists/90/rockyou.txt.gz\n",
        "    !printf \"[+] Wordlist downloaded !\\n[+] Extraction...\\n\"\n",
        "    !cd $wordlists_dir && gunzip rockyou.txt.gz\n",
        "    !printf \"[+] Finished !\\n[+] Location : $(pwd)/$wordlists_dir/$(ls wordlists | grep rockyou)\"\n",
        "\n",
        "if hashesorg2019:\n",
        "    !printf \"[+] Downloading the HashesOrg2019 wordlist...\\n\"\n",
        "    !cd $wordlists_dir && wget https://download.weakpass.com/wordlists/1851/hashesorg2019.gz\n",
        "    !printf \"[+] Wordlist downloaded !\\n[+] Extraction...\\n\"\n",
        "    !cd $wordlists_dir && gunzip hashesorg2019.gz\n",
        "    !printf \"[+] Finished !\\n[+] Location : $(pwd)/$wordlists_dir/$(ls wordlists | grep hashesorg2019)\""
      ],
      "execution_count": null,
      "outputs": []
    },
    {
      "cell_type": "code",
      "metadata": {
        "id": "nkcgYemCZA2n"
      },
      "source": [
        "#Install of hashcat\n",
        "if hashcat:\n",
        "    print(\"Installation of hashcat...\")\n",
        "    !apt install cmake build-essential -y\n",
        "    !apt install checkinstall git -y\n",
        "    !git clone https://github.com/hashcat/hashcat.git && cd hashcat && make -j 8 && make install"
      ],
      "execution_count": null,
      "outputs": []
    },
    {
      "cell_type": "code",
      "metadata": {
        "id": "lJ4ftp1ua3e9"
      },
      "source": [
        "#Install of john\n",
        "if john:\n",
        "    print(\"Installation of john...\")\n",
        "    !apt-get install john -y"
      ],
      "execution_count": null,
      "outputs": []
    },
    {
      "cell_type": "code",
      "metadata": {
        "id": "nYd0hAxYdSJs"
      },
      "source": [
        "#Install of hydra\n",
        "if hydra:\n",
        "    print(\"Installation of hydra...\")\n",
        "    !apt install cmake build-essential -y\n",
        "    !apt install checkinstall git -y\n",
        "    !git clone https://github.com/vanhauser-thc/thc-hydra.git && cd thc-hydra && ./configure && make && make install"
      ],
      "execution_count": null,
      "outputs": []
    },
    {
      "cell_type": "code",
      "metadata": {
        "id": "erA610RJM1GK"
      },
      "source": [
        "#Setting up shells\n",
        "from termcolor import colored\n",
        "import os\n",
        "\n",
        "if ssh:\n",
        "    print(\"Setting up SSH...\")\n",
        "    !pip install git+https://github.com/demotomohiro/remocolab.git\n",
        "    import remocolab\n",
        "    remocolab.setupSSHD(tunnel = \"argotunnel\")\n",
        "\n",
        "elif python_shell:\n",
        "    os.system(\"touch /tmp/cmd && touch /tmp/status\")\n",
        "\n",
        "    template_cmd = \"echo -n $(whoami)[$(hostname)[$(pwd) &> /tmp/status\"\n",
        "    os.system(\"bash -c '{}'\".format(template_cmd))\n",
        "    output = {\"cmd\": \"\", \"status\": \"\"}\n",
        "    with open('/tmp/cmd', 'r') as f:\n",
        "        output[\"cmd\"] = f.read()\n",
        "    with open('/tmp/status', 'r') as f:\n",
        "        output[\"status\"] = f.read()\n",
        "    prefixes = output[\"status\"].split(\"[\")\n",
        "    path = prefixes[2].replace('\\n', '')\n",
        "    prefix = colored(prefixes[0] + \"@\" + prefixes[1], \"red\") + \":\" + colored(path, \"cyan\") + \"$ \"\n",
        "    print(\"\")\n",
        "\n",
        "    while 1:\n",
        "        print(prefix, end='')\n",
        "        cmd = input()\n",
        "        template_cmd = \"cd {} && \".format(path) + \"\" + cmd + \" &> /tmp/cmd ; echo $(whoami)[$(hostname)[$(pwd) &> /tmp/status\"\n",
        "        os.system(\"bash -c '{}'\".format(template_cmd))\n",
        "        output = {\"cmd\": \"\", \"status\": \"\"}\n",
        "        with open('/tmp/cmd', 'r') as f:\n",
        "            output[\"cmd\"] = f.read()\n",
        "        with open('/tmp/status', 'r') as f:\n",
        "            output[\"status\"] = f.read()\n",
        "        prefixes = output[\"status\"].split(\"[\")\n",
        "        path = prefixes[2].replace('\\n', '')\n",
        "        prefix = colored(prefixes[0] + \"@\" + prefixes[1], \"red\") + \":\" + colored(path, \"cyan\") + \"$ \"\n",
        "        print(output[\"cmd\"])\n",
        "\n",
        "elif bash_shell:\n",
        "    !/bin/bash\n",
        "\n",
        "else:\n",
        "    print('\\n🚨🚨🚨\\n🎉 Your environment is ready !\\nWant to run it from the code blocks ?')\n",
        "    print('Just use the code block below and start your commands by a \"!\" (make sure to uncomment them).')\n",
        "    print('▶️ When you\\'re ready, hit the run button at the left of the code block !\\n')\n",
        "    print('|\\n|\\n|\\nV')"
      ],
      "execution_count": null,
      "outputs": []
    },
    {
      "cell_type": "code",
      "metadata": {
        "id": "7ucWO9luB4RG",
        "colab": {
          "base_uri": "https://localhost:8080/"
        },
        "outputId": "63a5fcd6-6ff2-4be4-c842-f95048fe5da6"
      },
      "source": [
        "#Put your code here :\n",
        "# !john --help\n",
        "!nvidia-smi #check GPU\n",
        "!hashcat -m0 -b"
      ],
      "execution_count": null,
      "outputs": [
        {
          "output_type": "stream",
          "name": "stdout",
          "text": [
            "Sun Mar  6 23:45:55 2022       \n",
            "+-----------------------------------------------------------------------------+\n",
            "| NVIDIA-SMI 460.32.03    Driver Version: 460.32.03    CUDA Version: 11.2     |\n",
            "|-------------------------------+----------------------+----------------------+\n",
            "| GPU  Name        Persistence-M| Bus-Id        Disp.A | Volatile Uncorr. ECC |\n",
            "| Fan  Temp  Perf  Pwr:Usage/Cap|         Memory-Usage | GPU-Util  Compute M. |\n",
            "|                               |                      |               MIG M. |\n",
            "|===============================+======================+======================|\n",
            "|   0  Tesla T4            Off  | 00000000:00:04.0 Off |                    0 |\n",
            "| N/A   36C    P8     9W /  70W |      0MiB / 15109MiB |      0%      Default |\n",
            "|                               |                      |                  N/A |\n",
            "+-------------------------------+----------------------+----------------------+\n",
            "                                                                               \n",
            "+-----------------------------------------------------------------------------+\n",
            "| Processes:                                                                  |\n",
            "|  GPU   GI   CI        PID   Type   Process name                  GPU Memory |\n",
            "|        ID   ID                                                   Usage      |\n",
            "|=============================================================================|\n",
            "|  No running processes found                                                 |\n",
            "+-----------------------------------------------------------------------------+\n",
            "hashcat (v6.2.5-303-gd1634eab8) starting in benchmark mode\n",
            "\n",
            "\u001b[33mBenchmarking uses hand-optimized kernel code by default.\u001b[0m\n",
            "\u001b[33mYou can use it in your cracking session by setting the -O option.\u001b[0m\n",
            "\u001b[33mNote: Using optimized kernel code limits the maximum supported password length.\u001b[0m\n",
            "\u001b[33mTo disable the optimized kernel code in benchmark mode, use the -w option.\u001b[0m\n",
            "\u001b[33m\u001b[0m\n",
            "\u001b[31mnvmlDeviceGetFanSpeed(): Not Supported\u001b[0m\n",
            "\n",
            "CUDA API (CUDA 11.2)\n",
            "====================\n",
            "* Device #1: Tesla T4, 15007/15109 MB, 40MCU\n",
            "\n",
            "OpenCL API (OpenCL 1.2 CUDA 11.2.109) - Platform #1 [NVIDIA Corporation]\n",
            "========================================================================\n",
            "* Device #2: Tesla T4, skipped\n",
            "\n",
            "Benchmark relevant options:\n",
            "===========================\n",
            "* --optimized-kernel-enable\n",
            "\n",
            "-------------------\n",
            "* Hash-Mode 0 (MD5)\n",
            "-------------------\n",
            "\n",
            "tcmalloc: large alloc 1405091840 bytes == 0x561c780e4000 @  0x7f139b46b001 0x561c5307d5f6 0x561c530c554d 0x561c5307426c 0x561c53074abc 0x561c5306fa9f 0x7f139a69dc87 0x561c5306fafa\n",
            "Speed.#1.........: 20847.0 MH/s (62.10ms) @ Accel:2048 Loops:512 Thr:32 Vec:1\n",
            "\n",
            "Started: Sun Mar  6 23:45:55 2022\n",
            "Stopped: Sun Mar  6 23:46:04 2022\n"
          ]
        }
      ]
    }
  ]
}